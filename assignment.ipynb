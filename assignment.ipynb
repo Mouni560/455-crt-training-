{
 "cells": [
  {
   "cell_type": "code",
   "execution_count": 2,
   "metadata": {},
   "outputs": [
    {
     "name": "stdout",
     "output_type": "stream",
     "text": [
      "Number is negative\n"
     ]
    }
   ],
   "source": [
    " #Logical Question 1\n",
    "# Write a Python program to check whether a given integer is positive, negative, or zero using if-elif-else statements.\n",
    "# Hint: Use the 'if', 'elif', and 'else' structure to compare the integer with zero.\n",
    "a=-20\n",
    "if(a>0):\n",
    "    print(\"Number is positive\")\n",
    "elif(a<0):\n",
    "    print(\"Number is negative\")\n",
    "else:\n",
    "    print(\"number is zero\")"
   ]
  },
  {
   "cell_type": "code",
   "execution_count": 3,
   "metadata": {},
   "outputs": [
    {
     "name": "stdout",
     "output_type": "stream",
     "text": [
      "number is even\n"
     ]
    }
   ],
   "source": [
    "# Logical Question 2\n",
    "# Write a program to determine if a number is even or odd.\n",
    "# Hint: Use the modulo operator (%) to check divisibility by 2.\n",
    "a=30\n",
    "if(a%2==0):\n",
    "    print(\"number is even\")\n",
    "else:\n",
    "    print(\"number is odd\")"
   ]
  },
  {
   "cell_type": "code",
   "execution_count": 4,
   "metadata": {},
   "outputs": [
    {
     "name": "stdout",
     "output_type": "stream",
     "text": [
      "c is biggest among 3 numbers\n"
     ]
    }
   ],
   "source": [
    "# Logical Question 3\n",
    "# Create a program to find the largest of three integers entered by the user.\n",
    "# Hint: Use nested if-else statements or multiple if-elif conditions.\n",
    "a=int(input(\"Enter a number\"))\n",
    "b=int(input(\"Enter a number\"))\n",
    "c=int(input(\"Enter a number\"))\n",
    "if a>b and a>c:\n",
    "    print(\"a is biggest among 3 numbers\")\n",
    "if b>a and b>c:\n",
    "    print(\"b is biggest among 3 numbers\")\n",
    "else:\n",
    "    print(\"c is biggest among 3 numbers\")\n",
    "\n"
   ]
  },
  {
   "cell_type": "code",
   "execution_count": 7,
   "metadata": {},
   "outputs": [
    {
     "name": "stdout",
     "output_type": "stream",
     "text": [
      "Not a leap year\n"
     ]
    }
   ],
   "source": [
    "# Logical Question 4\n",
    "# Write a program that checks if a year is a leap year.\n",
    "# Hint: A year is a leap year if it is divisible by 4 but not divisible by 100 unless it is also divisible by 400.\n",
    "a=int(input(\"Enter a year: \"))\n",
    "if(a%4==0 and a%100!=0):\n",
    "    print(\"year is leap year\")\n",
    "else:\n",
    "    print(\"Not a leap year\")"
   ]
  },
  {
   "cell_type": "code",
   "execution_count": 8,
   "metadata": {},
   "outputs": [
    {
     "name": "stdout",
     "output_type": "stream",
     "text": [
      "C grade\n"
     ]
    }
   ],
   "source": [
    "# Logical Question 5\n",
    "# Develop a Python program to calculate the grade based on marks entered by the user.\n",
    "# Hint: Use if-elif-else to define ranges for grades (e.g., A, B, C, etc.).\n",
    "a=int(input(\"enter marks:\"))\n",
    "if(a>=91):\n",
    "    print(\"A grade\")\n",
    "if(a>81<=90):\n",
    "    print(\"B grade\")\n",
    "if(a>71<=80):\n",
    "    print(\"C grade\")\n",
    "elif(a>60<=70):\n",
    "    print(\"D grade\")\n",
    "else:\n",
    "    print(\"Failed\")"
   ]
  },
  {
   "cell_type": "code",
   "execution_count": 15,
   "metadata": {},
   "outputs": [
    {
     "name": "stdout",
     "output_type": "stream",
     "text": [
      "1\n",
      "2\n",
      "3\n",
      "4\n",
      "5\n",
      "6\n",
      "7\n",
      "8\n",
      "9\n",
      "10\n"
     ]
    }
   ],
   "source": [
    "# Logical Question 6\n",
    "# Write a Python program to display numbers from 1 to 10 using a while loop.\n",
    "# Hint: Initialize a variable and increment it inside the loop until it reaches 10.\n",
    "n=1\n",
    "while(1<=n<=10):\n",
    "    print(n)\n",
    "    n=n+1\n"
   ]
  },
  {
   "cell_type": "code",
   "execution_count": 16,
   "metadata": {},
   "outputs": [
    {
     "name": "stdout",
     "output_type": "stream",
     "text": [
      "1\n",
      "2\n",
      "4\n",
      "5\n",
      "10\n",
      "20\n"
     ]
    }
   ],
   "source": [
    "# Logical Question 7\n",
    "# Create a program to find the factorial of a number using a while loop.\n",
    "# Hint: Multiply numbers from the given number down to 1 inside the loop.\n",
    "n=20\n",
    "c=1\n",
    "while c<=n:\n",
    "    if n%c==0:\n",
    "        print(c)\n",
    "    c=c+1\n",
    "\n"
   ]
  },
  {
   "cell_type": "code",
   "execution_count": 24,
   "metadata": {},
   "outputs": [
    {
     "name": "stdout",
     "output_type": "stream",
     "text": [
      "2\n",
      "4\n",
      "6\n",
      "8\n",
      "10\n",
      "12\n",
      "14\n",
      "16\n",
      "18\n",
      "20\n",
      "22\n",
      "24\n",
      "26\n",
      "28\n",
      "30\n",
      "32\n",
      "34\n",
      "36\n",
      "38\n",
      "40\n",
      "42\n",
      "44\n",
      "46\n",
      "48\n",
      "50\n"
     ]
    }
   ],
   "source": [
    "# Logical Question 8\n",
    "# Write a Python program that prints all even numbers from 1 to 50 using a while loop.\n",
    "# Hint: Use a condition to check if the number is even before printing it.\n",
    "n=2\n",
    "while(1<=n<51):\n",
    "    print(n)\n",
    "    \n",
    "    n=n+2"
   ]
  },
  {
   "cell_type": "code",
   "execution_count": 28,
   "metadata": {},
   "outputs": [
    {
     "name": "stdout",
     "output_type": "stream",
     "text": [
      "sum of number between 1 and 20 is: 210\n"
     ]
    }
   ],
   "source": [
    "# Logical Question 9\n",
    "# Develop a program to calculate the sum of all integers between 1 and a number entered by the user using a while loop.\n",
    "# Hint: Use a loop to add numbers incrementally.\n",
    "a=int(input(\"enter a number:\"))\n",
    "cnt=0\n",
    "c=1\n",
    "while(c<=a):\n",
    "    cnt+=c\n",
    "    c+=1\n",
    "print(\"sum of number between 1 and 20 is:\",cnt)"
   ]
  },
  {
   "cell_type": "code",
   "execution_count": 35,
   "metadata": {},
   "outputs": [
    {
     "name": "stdout",
     "output_type": "stream",
     "text": [
      "reversed number: 7654321\n"
     ]
    }
   ],
   "source": [
    "#Logical Question 10\n",
    "# Write a program to reverse a given number using a while loop.\n",
    "# Hint: Use modulus and integer division to extract digits and rebuild the number in reverse.\n",
    "a=int(input(\"enter numbers:\"))\n",
    "cnt=0\n",
    "while(a>0):\n",
    "    last_digit=a%10\n",
    "    cnt=cnt*10+last_digit\n",
    "    a=a//10\n",
    "print(\"reversed number:\",cnt)"
   ]
  },
  {
   "cell_type": "code",
   "execution_count": null,
   "metadata": {},
   "outputs": [],
   "source": []
  }
 ],
 "metadata": {
  "kernelspec": {
   "display_name": "Python 3",
   "language": "python",
   "name": "python3"
  },
  "language_info": {
   "codemirror_mode": {
    "name": "ipython",
    "version": 3
   },
   "file_extension": ".py",
   "mimetype": "text/x-python",
   "name": "python",
   "nbconvert_exporter": "python",
   "pygments_lexer": "ipython3",
   "version": "3.12.4"
  }
 },
 "nbformat": 4,
 "nbformat_minor": 2
}
