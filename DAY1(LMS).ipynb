{
 "cells": [
  {
   "cell_type": "code",
   "execution_count": 2,
   "metadata": {},
   "outputs": [
    {
     "name": "stdout",
     "output_type": "stream",
     "text": [
      "Integer variable: 3\n",
      "Type: <class 'int'>\n",
      "\n"
     ]
    }
   ],
   "source": [
    "#Write a program in Jupyter Notebook to declare variables of different data types (integer, float, string, and boolean). Print each variable and its type.\n",
    "# Declaring an integer variable\n",
    "integer_var = int(input(\"Enter a number:\"))\n",
    "print(\"Integer variable:\", integer_var)\n",
    "print(\"Type:\", type(integer_var))\n",
    "print()"
   ]
  },
  {
   "cell_type": "code",
   "execution_count": 3,
   "metadata": {},
   "outputs": [
    {
     "name": "stdout",
     "output_type": "stream",
     "text": [
      "Float variable: 8.9\n",
      "Type: <class 'float'>\n",
      "\n"
     ]
    }
   ],
   "source": [
    "float_var = float(input(\"Enter a number:\"))\n",
    "print(\"Float variable:\", float_var)\n",
    "print(\"Type:\", type(float_var))\n",
    "print()"
   ]
  },
  {
   "cell_type": "code",
   "execution_count": 4,
   "metadata": {},
   "outputs": [
    {
     "name": "stdout",
     "output_type": "stream",
     "text": [
      "Boolean variable: True\n",
      "Type: <class 'bool'>\n",
      "\n"
     ]
    }
   ],
   "source": [
    "boolean_var = True\n",
    "print(\"Boolean variable:\", boolean_var)\n",
    "print(\"Type:\", type(boolean_var))\n",
    "print()"
   ]
  },
  {
   "cell_type": "code",
   "execution_count": null,
   "metadata": {},
   "outputs": [],
   "source": []
  }
 ],
 "metadata": {
  "kernelspec": {
   "display_name": "Python 3",
   "language": "python",
   "name": "python3"
  },
  "language_info": {
   "codemirror_mode": {
    "name": "ipython",
    "version": 3
   },
   "file_extension": ".py",
   "mimetype": "text/x-python",
   "name": "python",
   "nbconvert_exporter": "python",
   "pygments_lexer": "ipython3",
   "version": "3.12.4"
  }
 },
 "nbformat": 4,
 "nbformat_minor": 2
}
