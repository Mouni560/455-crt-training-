{
 "cells": [
  {
   "cell_type": "code",
   "execution_count": 2,
   "metadata": {},
   "outputs": [
    {
     "name": "stdout",
     "output_type": "stream",
     "text": [
      "Test3n\n",
      "test 2\n"
     ]
    }
   ],
   "source": [
    "a=20\n",
    "if 7>4:\n",
    "    print(\"Test3n\")\n",
    "if 9>50:\n",
    "    print(\"test2n\")\n",
    "elif a>5:\n",
    "    print(\"test 2\")\n",
    "else:\n",
    "    print(\"test3\")"
   ]
  },
  {
   "cell_type": "code",
   "execution_count": 3,
   "metadata": {},
   "outputs": [
    {
     "name": "stdout",
     "output_type": "stream",
     "text": [
      "test1\n"
     ]
    }
   ],
   "source": [
    "#elif condition will not execute if above condition is true\n",
    "#else will execute  if all above conditions are false\n",
    "a=10\n",
    "b=20\n",
    "if a+b>a:\n",
    "    print(\"test1\")\n",
    "\n",
    "elif a>5:\n",
    "    print(\"test2\")\n",
    "else:\n",
    "    print(\"test3\")"
   ]
  },
  {
   "cell_type": "code",
   "execution_count": 4,
   "metadata": {},
   "outputs": [
    {
     "name": "stdout",
     "output_type": "stream",
     "text": [
      "test1\n",
      "test0\n",
      "Test3n\n",
      "test 2\n"
     ]
    }
   ],
   "source": [
    "a=10\n",
    "b=20\n",
    "if a+b>a:\n",
    "    print(\"test1\")\n",
    "if 5>2:\n",
    "    print(\"test0\")\n",
    "else:\n",
    "    print(\"testn\")\n",
    "if 7>4:\n",
    "    print(\"Test3n\")\n",
    "if 9>50:\n",
    "    print(\"test2n\")\n",
    "elif a>5:\n",
    "    print(\"test 2\")\n",
    "else:\n",
    "    print(\"test3\")"
   ]
  },
  {
   "cell_type": "code",
   "execution_count": 5,
   "metadata": {},
   "outputs": [
    {
     "name": "stdout",
     "output_type": "stream",
     "text": [
      "test2n\n"
     ]
    }
   ],
   "source": [
    "if 7<4:\n",
    "    print(\"Test3n\")\n",
    "elif 9<50:\n",
    "    print(\"test2n\")\n",
    "elif a>5:\n",
    "    print(\"test 2\")\n",
    "else:\n",
    "    print(\"test3\")"
   ]
  },
  {
   "cell_type": "code",
   "execution_count": 2,
   "metadata": {},
   "outputs": [
    {
     "name": "stdout",
     "output_type": "stream",
     "text": [
      "2\n",
      "4\n",
      "6\n",
      "8\n",
      "10\n",
      "12\n",
      "14\n",
      "16\n",
      "18\n",
      "20\n",
      "22\n",
      "24\n",
      "26\n",
      "28\n",
      "30\n",
      "32\n",
      "34\n",
      "36\n",
      "38\n",
      "40\n",
      "42\n",
      "44\n",
      "46\n",
      "48\n",
      "50\n"
     ]
    }
   ],
   "source": [
    "n=2\n",
    "while(1<=n<51):\n",
    "    print(n)\n",
    "    \n",
    "    n=n+2\n",
    "    \n",
    "\n"
   ]
  },
  {
   "cell_type": "code",
   "execution_count": 3,
   "metadata": {},
   "outputs": [
    {
     "name": "stdout",
     "output_type": "stream",
     "text": [
      "1\n",
      "2\n",
      "3\n",
      "4\n",
      "5\n",
      "6\n",
      "7\n",
      "8\n",
      "9\n",
      "10\n"
     ]
    }
   ],
   "source": [
    "#odd\n",
    "n=10\n",
    "c=1\n",
    "while c<=n:\n",
    "    print(c)\n",
    "    c=c+1\n",
    "    \n",
    "    \n"
   ]
  },
  {
   "cell_type": "code",
   "execution_count": 9,
   "metadata": {},
   "outputs": [
    {
     "name": "stdout",
     "output_type": "stream",
     "text": [
      "1\n",
      "2\n",
      "4\n",
      "5\n",
      "10\n",
      "20\n"
     ]
    }
   ],
   "source": [
    "#factors of a number\n",
    "n=20\n",
    "c=1\n",
    "while c<=n:\n",
    "    if n%c==0:\n",
    "        print(c)\n",
    "    c=c+1"
   ]
  },
  {
   "cell_type": "code",
   "execution_count": 19,
   "metadata": {},
   "outputs": [
    {
     "name": "stdout",
     "output_type": "stream",
     "text": [
      "4\n"
     ]
    }
   ],
   "source": [
    "#program will give the number of factors for given number\n",
    "n=10\n",
    "c=1\n",
    "cnt=0\n",
    "while c<=n:\n",
    "    \n",
    "    if n%c==0:\n",
    "        cnt=cnt+1\n",
    "        \n",
    "       \n",
    "\n",
    "        \n",
    "       \n",
    "    c=c+1\n",
    "print(cnt)\n"
   ]
  },
  {
   "cell_type": "code",
   "execution_count": 20,
   "metadata": {},
   "outputs": [
    {
     "name": "stdout",
     "output_type": "stream",
     "text": [
      "2\n",
      "Prime\n"
     ]
    }
   ],
   "source": [
    "#number of factors and prime number \n",
    "n=13\n",
    "c=1\n",
    "cnt=0\n",
    "while c<=n:\n",
    "    if n%c==0:\n",
    "        cnt=cnt+1\n",
    "    c=c+1\n",
    "print(cnt)#count number of factors\n",
    "if cnt==2:\n",
    "    print(\"Prime\")\n",
    "else:\n",
    "    print(\"not prime\")#determine whether prime or not\n"
   ]
  },
  {
   "cell_type": "code",
   "execution_count": null,
   "metadata": {},
   "outputs": [],
   "source": []
  }
 ],
 "metadata": {
  "kernelspec": {
   "display_name": "Python 3",
   "language": "python",
   "name": "python3"
  },
  "language_info": {
   "codemirror_mode": {
    "name": "ipython",
    "version": 3
   },
   "file_extension": ".py",
   "mimetype": "text/x-python",
   "name": "python",
   "nbconvert_exporter": "python",
   "pygments_lexer": "ipython3",
   "version": "3.12.4"
  }
 },
 "nbformat": 4,
 "nbformat_minor": 2
}
